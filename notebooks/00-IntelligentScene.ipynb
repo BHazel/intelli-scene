{
 "cells": [
  {
   "cell_type": "markdown",
   "metadata": {},
   "source": [
    "# Intelligent Scene\n",
    "\n",
    "Intelligent Scene creates scenes for a zone in a Philips Hue light setup using artificial intelligence.\n",
    "\n",
    "It is powered by the Microsoft Semantic Kernel and uses Open AI Chat Completion to create the scene based on:\n",
    "* The location of the zone, e.g. Ground Floor,\n",
    "* The number of lights the zone contains, e.g. 4,\n",
    "* A situation such an event or environment for the scene, e.g. Woodland on a Sunny Day, a Birthday Party, etc..\n",
    "\n",
    "**This is a notebook version of the initial implementation as seen in my [IoT Experiments](https://github.com/bhazel/iot-experiments) repository on GitHub.**"
   ]
  },
  {
   "cell_type": "markdown",
   "metadata": {},
   "source": [
    "## Initial Set Up\n",
    "\n",
    "**You need to have a zone configured in your Philips Hue installation for this notebook to run correctly.**\n",
    "\n",
    "Intelligent Scene uses the [Microsoft Semantic Kernel](https://learn.microsoft.com/en-us/semantic-kernel/overview/) to orchestrate the AI and the [Q42.HueApi](https://github.com/michielpost/Q42.HueApi) to interact with Philips Hue.  These are both installed from NuGet.\n",
    "\n",
    "The necessary `using` statements provide access to their APIs.  Additional types for the created scene are imported for a utility file."
   ]
  },
  {
   "cell_type": "code",
   "execution_count": null,
   "metadata": {
    "dotnet_interactive": {
     "language": "csharp"
    },
    "polyglot_notebook": {
     "kernelName": "csharp"
    },
    "vscode": {
     "languageId": "polyglot-notebook"
    }
   },
   "outputs": [],
   "source": [
    "#r \"nuget: Microsoft.SemanticKernel, 1.5.0\"\n",
    "#r \"nuget: HueApi, 1.6.0\""
   ]
  },
  {
   "cell_type": "code",
   "execution_count": null,
   "metadata": {
    "dotnet_interactive": {
     "language": "csharp"
    },
    "polyglot_notebook": {
     "kernelName": "csharp"
    },
    "vscode": {
     "languageId": "polyglot-notebook"
    }
   },
   "outputs": [],
   "source": [
    "using System;\n",
    "using System.IO;\n",
    "using System.Net.Http;\n",
    "using System.Text.Json;\n",
    "using System.Text.Json.Nodes;\n",
    "using Microsoft.DotNet.Interactive.Formatting;\n",
    "using Microsoft.SemanticKernel;\n",
    "using HueApi;\n",
    "using HueApi.Models;\n",
    "using HueApi.Models.Requests;\n",
    "using InteractiveKernel = Microsoft.DotNet.Interactive.Kernel;\n",
    "using Kernel = Microsoft.SemanticKernel.Kernel;\n",
    "using static System.Console;\n",
    "using static Microsoft.DotNet.Interactive.Formatting.PocketViewTags;"
   ]
  },
  {
   "cell_type": "code",
   "execution_count": null,
   "metadata": {
    "dotnet_interactive": {
     "language": "csharp"
    },
    "polyglot_notebook": {
     "kernelName": "csharp"
    },
    "vscode": {
     "languageId": "polyglot-notebook"
    }
   },
   "outputs": [],
   "source": [
    "#!import ./Utils/Model.cs"
   ]
  },
  {
   "cell_type": "markdown",
   "metadata": {},
   "source": [
    "## Load Configuration\n",
    "\n",
    "All values used by Intelligent Scene are set in the `config.json` file in the same directory as this notebook.\n",
    "\n",
    "* **Philips Hue:**\n",
    "    * **Bridge IP Address:** The IP address of the Hue Bridge, e.g. `192.168.1.50`.\n",
    "    * **App Username:** The Hue Bridge app username, e.g. `ABCDEFGHIJKLMNOPQRSTUVWXYZABC-abcdefghij`.\n",
    "    * **Zone:** The zone to set the scene, e.g. `Ground Floor`.\n",
    "* **Open AI:**\n",
    "    * **API Key:** The Open AI API key, e.g. `sk-ABCDEFGHIJKLMNOPQRSTUVWXYZabcdefghijklmnopqrstuv`.\n",
    "    * **Model:** The Open AI model to use, e.g. `gpt-3.5-turbo`.\n",
    "\n",
    "Any values which are not provided are either requested via prompts or automatically."
   ]
  },
  {
   "cell_type": "code",
   "execution_count": null,
   "metadata": {
    "dotnet_interactive": {
     "language": "csharp"
    },
    "polyglot_notebook": {
     "kernelName": "csharp"
    },
    "vscode": {
     "languageId": "polyglot-notebook"
    }
   },
   "outputs": [],
   "source": [
    "string configurationText = File.ReadAllText(\"config.json\");\n",
    "JsonNode configuration = JsonNode.Parse(configurationText);\n",
    "string philipsHueBridgeIpAddress = configuration[\"PhilipsHue\"][\"BridgeIpAddress\"]!.ToString();\n",
    "string philipsHueAppUsername = configuration[\"PhilipsHue\"][\"AppUsername\"]!.ToString();\n",
    "\n",
    "display(span(\n",
    "    strong(\"Philips Hue Bridge IP Address: \"), !string.IsNullOrWhiteSpace(philipsHueBridgeIpAddress) ? philipsHueBridgeIpAddress : em(\"Not Provided\"),\n",
    "    br(),\n",
    "    strong(\"Philips Hue App Username: \"), !string.IsNullOrWhiteSpace(philipsHueAppUsername) ? em(\"Provided\") : em(\"Not Provided\")\n",
    "));"
   ]
  },
  {
   "cell_type": "code",
   "execution_count": null,
   "metadata": {
    "dotnet_interactive": {
     "language": "csharp"
    },
    "polyglot_notebook": {
     "kernelName": "csharp"
    },
    "vscode": {
     "languageId": "polyglot-notebook"
    }
   },
   "outputs": [],
   "source": [
    "if (string.IsNullOrWhiteSpace(philipsHueBridgeIpAddress))\n",
    "{\n",
    "    HttpClient httpClient = new HttpClient();\n",
    "    string ipDiscoveryResponse = await httpClient.GetStringAsync(\"https://discovery.meethue.com\");\n",
    "    JsonNode ipDiscovery = JsonNode.Parse(ipDiscoveryResponse);\n",
    "    philipsHueBridgeIpAddress = ipDiscovery[0][\"internalipaddress\"]!.ToString();\n",
    "    display(span(\n",
    "        strong(\"Philips Hue Bridge IP Address (via Discovery): \"),\n",
    "        philipsHueBridgeIpAddress\n",
    "    ));\n",
    "}\n",
    "\n",
    "if (string.IsNullOrWhiteSpace(philipsHueAppUsername))\n",
    "{\n",
    "    philipsHueAppUsername = await GetInputAsync(\"Please enter youe Philips Hue app username\");\n",
    "    display(span(\n",
    "        strong(\"Philips Hue App Username (via Input): \"),\n",
    "        !string.IsNullOrWhiteSpace(philipsHueBridgeIpAddress) ? em(\"Provided\") : em(\"Not Provided\")\n",
    "    ));\n",
    "}"
   ]
  },
  {
   "cell_type": "markdown",
   "metadata": {},
   "source": [
    "## Load Zones\n",
    "\n",
    "Available zones in the current Philips Hue installation are loaded.  If one has not been provided in configuration you will be prompted for one here."
   ]
  },
  {
   "cell_type": "code",
   "execution_count": null,
   "metadata": {
    "dotnet_interactive": {
     "language": "csharp"
    },
    "polyglot_notebook": {
     "kernelName": "csharp"
    },
    "vscode": {
     "languageId": "polyglot-notebook"
    }
   },
   "outputs": [],
   "source": [
    "LocalHueApi localHueApi = new(philipsHueBridgeIpAddress, philipsHueAppUsername);\n",
    "List<Zone> zones = (await localHueApi.GetZonesAsync()).Data;\n",
    "string[] zoneNames = zones.Select(zone => zone.Metadata!.Name).ToArray();\n",
    "display(span(\n",
    "    strong($\"{zoneNames.Count()} Zone(s) Found: \"),\n",
    "    ul(\n",
    "        zoneNames.Select(zone => li(zone))\n",
    "    )\n",
    "));\n",
    "\n",
    "string philipsHueZone = configuration[\"PhilipsHue\"][\"Zone\"]!.ToString();\n",
    "display(span(\n",
    "    strong(\"Philips Hue Zone: \"), !string.IsNullOrWhiteSpace(philipsHueZone) ? philipsHueZone : em(\"Not Provided\")\n",
    "));"
   ]
  },
  {
   "cell_type": "code",
   "execution_count": null,
   "metadata": {
    "dotnet_interactive": {
     "language": "csharp"
    },
    "polyglot_notebook": {
     "kernelName": "csharp"
    },
    "vscode": {
     "languageId": "polyglot-notebook"
    }
   },
   "outputs": [],
   "source": [
    "if (string.IsNullOrWhiteSpace(philipsHueZone))\n",
    "{\n",
    "    philipsHueZone = await GetInputAsync($\"Please select a zone (Available: {string.Join((\", \"), zoneNames)}):\");\n",
    "    display(span(\n",
    "        strong(\"Philips Hue Zone (via Input): \"),\n",
    "        philipsHueZone\n",
    "    ));\n",
    "}"
   ]
  },
  {
   "cell_type": "markdown",
   "metadata": {},
   "source": [
    "## Load Lights for Selected Zone\n",
    "\n",
    "The available lights for the selected zone are loaded."
   ]
  },
  {
   "cell_type": "code",
   "execution_count": null,
   "metadata": {
    "dotnet_interactive": {
     "language": "csharp"
    },
    "polyglot_notebook": {
     "kernelName": "csharp"
    },
    "vscode": {
     "languageId": "polyglot-notebook"
    }
   },
   "outputs": [],
   "source": [
    "Zone zone = zones.FirstOrDefault(z => z.Metadata!.Name == philipsHueZone);\n",
    "List<Light> zoneLights = zone!.Children\n",
    "    .Where(child => child.Rtype == \"light\")\n",
    "    .Select(rid => localHueApi.GetLightAsync(rid.Rid))\n",
    "    .Select(task => task.Result.Data.FirstOrDefault())\n",
    "    .ToList();\n",
    "\n",
    "display(span(\n",
    "    strong($\"{zoneLights.Count()} Light(s) Found in Zone '{philipsHueZone}':\"),\n",
    "    ul(\n",
    "        zoneLights.Select(light => li(light!.Metadata!.Name))\n",
    "    )\n",
    "));"
   ]
  },
  {
   "cell_type": "markdown",
   "metadata": {},
   "source": [
    "## Create & Configure Kernel\n",
    "\n",
    "A kernel is created with Open AI chat completion integration using a specified model.  If either an Open AI API key or model is not provided you will be prompted for them here."
   ]
  },
  {
   "cell_type": "code",
   "execution_count": null,
   "metadata": {
    "dotnet_interactive": {
     "language": "csharp"
    },
    "polyglot_notebook": {
     "kernelName": "csharp"
    },
    "vscode": {
     "languageId": "polyglot-notebook"
    }
   },
   "outputs": [],
   "source": [
    "string openAiApiKey = configuration[\"OpenAi\"][\"ApiKey\"]!.ToString();\n",
    "string openAiModel = configuration[\"OpenAi\"][\"Model\"]!.ToString();\n",
    "\n",
    "InteractiveKernel.display(span(\n",
    "    strong(\"OpenAI API Key: \"), !string.IsNullOrWhiteSpace(openAiApiKey) ? em(\"Provided\") : em(\"Not Provided\"),\n",
    "    br(),\n",
    "    strong(\"OpenAI Model: \"), !string.IsNullOrWhiteSpace(openAiModel) ? openAiModel : em(\"Not Provided\")\n",
    "));"
   ]
  },
  {
   "cell_type": "code",
   "execution_count": null,
   "metadata": {
    "dotnet_interactive": {
     "language": "csharp"
    },
    "polyglot_notebook": {
     "kernelName": "csharp"
    },
    "vscode": {
     "languageId": "polyglot-notebook"
    }
   },
   "outputs": [],
   "source": [
    "if (string.IsNullOrWhiteSpace(openAiApiKey))\n",
    "{\n",
    "    openAiApiKey = await GetInputAsync(\"Please enter your OpenAI API key\");\n",
    "    display(span(\n",
    "        strong(\"OpenAI API Key (via Input): \"),\n",
    "        !string.IsNullOrWhiteSpace(openAiApiKey) ? em(\"Provided\") : em(\"Not Provided\")\n",
    "    ));\n",
    "}\n",
    "\n",
    "if (string.IsNullOrWhiteSpace(openAiModel))\n",
    "{\n",
    "    openAiModel = await GetInputAsync(\"Please enter your OpenAI model\");\n",
    "    display(span(\n",
    "        strong(\"OpenAI Model (via Input): \"),\n",
    "        !string.IsNullOrWhiteSpace(openAiModel) ? openAiModel : em(\"Not Provided\")\n",
    "    ));\n",
    "}"
   ]
  },
  {
   "cell_type": "code",
   "execution_count": null,
   "metadata": {
    "dotnet_interactive": {
     "language": "csharp"
    },
    "polyglot_notebook": {
     "kernelName": "csharp"
    },
    "vscode": {
     "languageId": "polyglot-notebook"
    }
   },
   "outputs": [],
   "source": [
    "IKernelBuilder kernelBuilder = Kernel.CreateBuilder();\n",
    "kernelBuilder.AddOpenAIChatCompletion(openAiModel, openAiApiKey);\n",
    "Kernel kernel = kernelBuilder.Build();"
   ]
  },
  {
   "cell_type": "markdown",
   "metadata": {},
   "source": [
    "## Load Intelligent Scene Kernel Plug-in\n",
    "\n",
    "Intelligent Scene is powered by a prompt-based plug-in which provides the instructions to the Open AI model on how to generate a scene.  The prompt can be seen in the `Plugins/IntelligentScene/skprompt.txt` file."
   ]
  },
  {
   "cell_type": "code",
   "execution_count": null,
   "metadata": {
    "dotnet_interactive": {
     "language": "csharp"
    },
    "polyglot_notebook": {
     "kernelName": "csharp"
    },
    "vscode": {
     "languageId": "polyglot-notebook"
    }
   },
   "outputs": [],
   "source": [
    "string pluginsPath = Path.Combine(Environment.CurrentDirectory, \"Plugins\");\n",
    "KernelPlugin kernelPlugins = kernel.ImportPluginFromPromptDirectory(pluginsPath);\n",
    "\n",
    "display(span(\n",
    "    strong($\"{kernelPlugins.Count()} Plugin(s) Found:\"),\n",
    "    ul(\n",
    "        kernelPlugins.Select(plugin => li(plugin.Name))\n",
    "    )\n",
    "));"
   ]
  },
  {
   "cell_type": "markdown",
   "metadata": {},
   "source": [
    "## Prompt for a Situation & Submit to Open AI!\n",
    "\n",
    "The prompt contains parameters which are configured in the kernel arguments and correspond to:\n",
    "* **location:** The Philips Hue zone.\n",
    "* **lights:** The number of lights in the zone.\n",
    "* **situation:** The user-provided situation to create the scene.\n",
    "\n",
    "You will be prompted for the situation in this cell.  This can be written in natural language and be as basic or detailed as required.  Examples include:\n",
    "* Woodland on a sunny summer day in the shade of the trees.\n",
    "* My birthday party for me and my friends.\n",
    "* A romantic moodlit evening with my partner.\n",
    "* Film night with an ocean theme.\n",
    "* Working from home and I need to concentrate.\n",
    "* Relaxed lighting with purple colours.\n",
    "\n",
    "These are submitted to Open AI to create a scene.  The response is in JSON which is parsed and used to set the colours of the lights in the zone.\n",
    "\n",
    "This cell contains an infinite loop to make another scene once one has completed.  To exit press the Escape key."
   ]
  },
  {
   "cell_type": "code",
   "execution_count": null,
   "metadata": {
    "dotnet_interactive": {
     "language": "csharp"
    },
    "polyglot_notebook": {
     "kernelName": "csharp"
    },
    "vscode": {
     "languageId": "polyglot-notebook"
    }
   },
   "outputs": [],
   "source": [
    "while (true)\n",
    "{\n",
    "    string location = philipsHueZone;\n",
    "    int lights = zoneLights.Count;\n",
    "    string situation = await GetInputAsync(\"Please provide a situation for the scene.  Examples include: 'Woodland on a sunny summer day', 'A beatiful tropical sunset', 'Working from home and I need to focus', etc..\");\n",
    "\n",
    "    KernelArguments kernelArguments = new()\n",
    "    {\n",
    "        [\"location\"] = philipsHueZone,\n",
    "        [\"lights\"] = lights,\n",
    "        [\"situation\"] = situation\n",
    "    };\n",
    "\n",
    "    display(span(\n",
    "        strong(\"Context for Prompt:\"),\n",
    "        ul(\n",
    "            kernelArguments.Select(argument => li(\n",
    "                strong($\"{argument.Key}: \"),\n",
    "                argument.Value.ToString()\n",
    "            ))\n",
    "        )\n",
    "    ));\n",
    "    \n",
    "    FunctionResult intelligentSceneResult = await kernel.InvokeAsync(kernelPlugins[\"IntelligentScene\"], kernelArguments);\n",
    "    string intelligentScene = intelligentSceneResult.ToString()\n",
    "        .Replace(\"```json\", string.Empty)\n",
    "        .Replace(\"```\", string.Empty)\n",
    "        .Trim();\n",
    "    \n",
    "    display(span(\n",
    "        strong(\"JSON Response:\"),\n",
    "        pre(intelligentScene)\n",
    "    ));\n",
    "\n",
    "    SceneInfo scene = JsonSerializer.Deserialize<SceneInfo>(intelligentScene);\n",
    "    Dictionary<Light, ColourInfo> lightSettings = zoneLights\n",
    "        .Zip(scene!.Colours, (light, colour) => new KeyValuePair<Light, ColourInfo>(light!, colour))\n",
    "        .ToDictionary(lightColourPair => lightColourPair.Key, pair => pair.Value);\n",
    "\n",
    "    foreach (KeyValuePair<Light, ColourInfo> lightSetting in lightSettings)\n",
    "    {\n",
    "        Light light = lightSetting.Key;\n",
    "        ColourInfo colour = lightSetting.Value;\n",
    "        UpdateLight updateLightRequest = new UpdateLight()\n",
    "            .TurnOn()\n",
    "            .SetBrightness(colour.Brightness)\n",
    "            .SetColor(colour.Xy.X, colour.Xy.Y);\n",
    "        \n",
    "        await localHueApi.UpdateLightAsync(light.Id, updateLightRequest);\n",
    "    }\n",
    "\n",
    "    display(span(\n",
    "        strong(\"Itelligent Scene Result:\"),\n",
    "        ul(\n",
    "            lightSettings.Select(lightSetting => li(\n",
    "                strong($\"{lightSetting.Key.Metadata!.Name}: \"),\n",
    "                lightSetting.Value.Name\n",
    "            ))\n",
    "        )\n",
    "    ));\n",
    "}"
   ]
  }
 ],
 "metadata": {
  "language_info": {
   "name": "python"
  }
 },
 "nbformat": 4,
 "nbformat_minor": 2
}
